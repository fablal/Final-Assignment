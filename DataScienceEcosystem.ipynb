{
 "cells": [
  {
   "cell_type": "markdown",
   "id": "23c632ed-18c8-4d40-9660-554c1a49c593",
   "metadata": {},
   "source": [
    "# Data Science Tools and Ecosystem"
   ]
  },
  {
   "cell_type": "markdown",
   "id": "98f9875c-4819-4b2e-b278-4b010fd4ae96",
   "metadata": {},
   "source": [
    "In this notebook, Data Science Tools and Ecosystem are summarized."
   ]
  },
  {
   "cell_type": "markdown",
   "id": "011cdde4-5cf2-4ff9-b9cb-c456845ef939",
   "metadata": {},
   "source": [
    "**Objectives**\n",
    "\n",
    "- List of popular languages for data science.\n",
    "- Common Data Science libraries.\n",
    "- Main Data Science tools.\n",
    "- Basic arithmetic examples."
   ]
  },
  {
   "cell_type": "markdown",
   "id": "9efa3418-5a17-4acd-8bb9-5e73bdfad5ff",
   "metadata": {},
   "source": [
    "Some of the popular languages that Data Scientists use are:  \n",
    "\n",
    "1. R\n",
    "2. Python\n",
    "3. Scala\n",
    "4. Java\n",
    "5. Julia\n",
    "6. C++"
   ]
  },
  {
   "cell_type": "markdown",
   "id": "c68b01d2-c8f3-4222-9c5b-d5a2e91f6a6f",
   "metadata": {},
   "source": [
    "Some of the commonly used libraries used by Data Scientists include:  \n",
    "\n",
    "1. NumPy\n",
    "2. Pandas\n",
    "3. Scitech Learn\n",
    "4. TensorFlow\n",
    "5. PyTorch"
   ]
  },
  {
   "cell_type": "markdown",
   "id": "10933a5d-fa46-435b-9249-2eb4533d5382",
   "metadata": {},
   "source": [
    "| Data Science Tools     |\n",
    "|------------------------|\n",
    "| RStudio                |\n",
    "| Jupiter Lab / Notebook |\n",
    "| Apache Spark           |\n",
    "| Hadoop                 |\n"
   ]
  },
  {
   "cell_type": "markdown",
   "id": "0a4484f6-74f4-4513-b9e8-4f009a68eb8f",
   "metadata": {},
   "source": [
    "### Below are a few examples of evaluating arithmetic expressions in Python"
   ]
  },
  {
   "cell_type": "code",
   "execution_count": 24,
   "id": "c4fea68f-aa47-43f4-9fad-a50658f1692b",
   "metadata": {},
   "outputs": [
    {
     "data": {
      "text/plain": [
       "17"
      ]
     },
     "execution_count": 24,
     "metadata": {},
     "output_type": "execute_result"
    }
   ],
   "source": [
    "# This a simple arithmetic expression to mutiply then add integers\n",
    "\n",
    "(3*4)+5"
   ]
  },
  {
   "cell_type": "code",
   "execution_count": 40,
   "id": "04ecd330-5ba6-4e12-a5a3-87c22580e0bb",
   "metadata": {},
   "outputs": [
    {
     "name": "stdout",
     "output_type": "stream",
     "text": [
      "200 minutes corresponds to 3.3333333333333335 hours.\n"
     ]
    }
   ],
   "source": [
    "# This will convert 200 minutes to hours by diving by 60\n",
    "\n",
    "min = 200\n",
    "h = min/60\n",
    "print(str(min) + \" minutes corresponds to \" +  str(h) + \" hours.\")"
   ]
  },
  {
   "cell_type": "markdown",
   "id": "e8b7292b-0555-4e76-b582-978b7320499d",
   "metadata": {},
   "source": [
    "## Author\n",
    "\n",
    "Fabrizio Lalli"
   ]
  }
 ],
 "metadata": {
  "kernelspec": {
   "display_name": "Python 3 (ipykernel)",
   "language": "python",
   "name": "python3"
  },
  "language_info": {
   "codemirror_mode": {
    "name": "ipython",
    "version": 3
   },
   "file_extension": ".py",
   "mimetype": "text/x-python",
   "name": "python",
   "nbconvert_exporter": "python",
   "pygments_lexer": "ipython3",
   "version": "3.12.4"
  }
 },
 "nbformat": 4,
 "nbformat_minor": 5
}
